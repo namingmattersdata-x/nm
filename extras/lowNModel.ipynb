{
 "cells": [
  {
   "cell_type": "code",
   "execution_count": 1,
   "metadata": {},
   "outputs": [],
   "source": [
    "import pandas as pd\n",
    "import numpy as np\n",
    "import sklearn.linear_model as lm\n",
    "from sklearn import metrics\n",
    "from sklearn import preprocessing\n",
    "from sklearn.model_selection import train_test_split, StratifiedKFold\n",
    "import matplotlib.pyplot as plt"
   ]
  },
  {
   "cell_type": "code",
   "execution_count": 2,
   "metadata": {},
   "outputs": [
    {
     "data": {
      "text/html": [
       "<div>\n",
       "<style scoped>\n",
       "    .dataframe tbody tr th:only-of-type {\n",
       "        vertical-align: middle;\n",
       "    }\n",
       "\n",
       "    .dataframe tbody tr th {\n",
       "        vertical-align: top;\n",
       "    }\n",
       "\n",
       "    .dataframe thead th {\n",
       "        text-align: right;\n",
       "    }\n",
       "</style>\n",
       "<table border=\"1\" class=\"dataframe\">\n",
       "  <thead>\n",
       "    <tr style=\"text-align: right;\">\n",
       "      <th></th>\n",
       "      <th>name</th>\n",
       "      <th>industries</th>\n",
       "      <th>ratio_orgs</th>\n",
       "      <th>newsapi_totalResults</th>\n",
       "      <th>root_mean_distance</th>\n",
       "      <th>num_orgs</th>\n",
       "      <th>num_non_orgs</th>\n",
       "      <th>num_titlecase</th>\n",
       "      <th>num_articles</th>\n",
       "      <th>org_at_least_once</th>\n",
       "      <th>num_found</th>\n",
       "      <th>num_industries</th>\n",
       "      <th>ratio_case</th>\n",
       "      <th>newsapi_rawResults</th>\n",
       "      <th>avg_article_length</th>\n",
       "      <th>class</th>\n",
       "    </tr>\n",
       "  </thead>\n",
       "  <tbody>\n",
       "    <tr>\n",
       "      <th>0</th>\n",
       "      <td>apple</td>\n",
       "      <td>consumer electronics;electronics</td>\n",
       "      <td>1.204765</td>\n",
       "      <td>5110</td>\n",
       "      <td>4239.662471</td>\n",
       "      <td>161</td>\n",
       "      <td>196</td>\n",
       "      <td>133</td>\n",
       "      <td>17</td>\n",
       "      <td>17</td>\n",
       "      <td>138</td>\n",
       "      <td>73</td>\n",
       "      <td>0.972421</td>\n",
       "      <td>111829</td>\n",
       "      <td>10910.647060</td>\n",
       "      <td>1</td>\n",
       "    </tr>\n",
       "    <tr>\n",
       "      <th>1</th>\n",
       "      <td>lyft</td>\n",
       "      <td>mobile apps;peer to peer;ride sharing;transpor...</td>\n",
       "      <td>0.195098</td>\n",
       "      <td>2156</td>\n",
       "      <td>2102.835687</td>\n",
       "      <td>20</td>\n",
       "      <td>112</td>\n",
       "      <td>78</td>\n",
       "      <td>17</td>\n",
       "      <td>5</td>\n",
       "      <td>79</td>\n",
       "      <td>110</td>\n",
       "      <td>0.985294</td>\n",
       "      <td>5723</td>\n",
       "      <td>10019.470590</td>\n",
       "      <td>1</td>\n",
       "    </tr>\n",
       "    <tr>\n",
       "      <th>2</th>\n",
       "      <td>spacex</td>\n",
       "      <td>aerospace</td>\n",
       "      <td>3.449275</td>\n",
       "      <td>1009</td>\n",
       "      <td>2027.324914</td>\n",
       "      <td>190</td>\n",
       "      <td>105</td>\n",
       "      <td>0</td>\n",
       "      <td>10</td>\n",
       "      <td>8</td>\n",
       "      <td>137</td>\n",
       "      <td>17</td>\n",
       "      <td>0.000000</td>\n",
       "      <td>9731</td>\n",
       "      <td>10048.400000</td>\n",
       "      <td>1</td>\n",
       "    </tr>\n",
       "    <tr>\n",
       "      <th>3</th>\n",
       "      <td>wework</td>\n",
       "      <td>collaboration;coworking</td>\n",
       "      <td>0.328599</td>\n",
       "      <td>211</td>\n",
       "      <td>2171.503040</td>\n",
       "      <td>71</td>\n",
       "      <td>323</td>\n",
       "      <td>4</td>\n",
       "      <td>12</td>\n",
       "      <td>12</td>\n",
       "      <td>163</td>\n",
       "      <td>75</td>\n",
       "      <td>0.025641</td>\n",
       "      <td>1224</td>\n",
       "      <td>9323.750000</td>\n",
       "      <td>1</td>\n",
       "    </tr>\n",
       "    <tr>\n",
       "      <th>4</th>\n",
       "      <td>massachusetts institute of technology</td>\n",
       "      <td>education</td>\n",
       "      <td>0.000000</td>\n",
       "      <td>362</td>\n",
       "      <td>2372.966766</td>\n",
       "      <td>21</td>\n",
       "      <td>0</td>\n",
       "      <td>0</td>\n",
       "      <td>18</td>\n",
       "      <td>18</td>\n",
       "      <td>21</td>\n",
       "      <td>65</td>\n",
       "      <td>0.000000</td>\n",
       "      <td>2280</td>\n",
       "      <td>8074.944444</td>\n",
       "      <td>1</td>\n",
       "    </tr>\n",
       "  </tbody>\n",
       "</table>\n",
       "</div>"
      ],
      "text/plain": [
       "                                    name  \\\n",
       "0                                  apple   \n",
       "1                                   lyft   \n",
       "2                                 spacex   \n",
       "3                                 wework   \n",
       "4  massachusetts institute of technology   \n",
       "\n",
       "                                          industries  ratio_orgs  \\\n",
       "0                   consumer electronics;electronics    1.204765   \n",
       "1  mobile apps;peer to peer;ride sharing;transpor...    0.195098   \n",
       "2                                          aerospace    3.449275   \n",
       "3                            collaboration;coworking    0.328599   \n",
       "4                                          education    0.000000   \n",
       "\n",
       "   newsapi_totalResults  root_mean_distance  num_orgs  num_non_orgs  \\\n",
       "0                  5110         4239.662471       161           196   \n",
       "1                  2156         2102.835687        20           112   \n",
       "2                  1009         2027.324914       190           105   \n",
       "3                   211         2171.503040        71           323   \n",
       "4                   362         2372.966766        21             0   \n",
       "\n",
       "   num_titlecase  num_articles  org_at_least_once  num_found  num_industries  \\\n",
       "0            133            17                 17        138              73   \n",
       "1             78            17                  5         79             110   \n",
       "2              0            10                  8        137              17   \n",
       "3              4            12                 12        163              75   \n",
       "4              0            18                 18         21              65   \n",
       "\n",
       "   ratio_case  newsapi_rawResults  avg_article_length  class  \n",
       "0    0.972421              111829        10910.647060      1  \n",
       "1    0.985294                5723        10019.470590      1  \n",
       "2    0.000000                9731        10048.400000      1  \n",
       "3    0.025641                1224         9323.750000      1  \n",
       "4    0.000000                2280         8074.944444      1  "
      ]
     },
     "execution_count": 2,
     "metadata": {},
     "output_type": "execute_result"
    }
   ],
   "source": [
    "df = pd.read_csv('/Users/hannahburak/Downloads/model_data/full_features.csv',header = 0,encoding='latin-1')\n",
    "df.head()"
   ]
  },
  {
   "cell_type": "code",
   "execution_count": 3,
   "metadata": {},
   "outputs": [
    {
     "name": "stdout",
     "output_type": "stream",
     "text": [
      "        ratio_orgs  newsapi_totalResults  root_mean_distance     num_orgs  \\\n",
      "count  1282.000000           1282.000000         1282.000000  1282.000000   \n",
      "mean      0.353293            701.018721         3445.752111    29.219189   \n",
      "std       2.186692           3994.650340         3809.701923    87.306871   \n",
      "min       0.000000              0.000000            0.000000     0.000000   \n",
      "25%       0.000000              2.000000         1207.196753     0.000000   \n",
      "50%       0.004667             17.000000         2680.589291     3.000000   \n",
      "75%       0.153461             93.000000         4504.161967    20.000000   \n",
      "max      50.000000          74320.000000        41288.132080  1832.000000   \n",
      "\n",
      "       num_non_orgs  num_titlecase  num_articles  org_at_least_once  \\\n",
      "count   1282.000000    1282.000000   1282.000000        1282.000000   \n",
      "mean      79.313573      39.868955      9.133385           3.853354   \n",
      "std      152.723988      64.561597      7.146629           5.076805   \n",
      "min        0.000000       0.000000      0.000000           0.000000   \n",
      "25%        0.000000       0.000000      1.000000           0.000000   \n",
      "50%       19.000000       9.000000     10.000000           1.000000   \n",
      "75%       99.750000      53.000000     16.000000           6.000000   \n",
      "max     1520.000000     587.000000     20.000000          20.000000   \n",
      "\n",
      "         num_found  num_industries   ratio_case  newsapi_rawResults  \\\n",
      "count  1282.000000     1282.000000  1282.000000         1282.000000   \n",
      "mean     59.099064       83.462559     0.509850         8189.911856   \n",
      "std      76.672303      130.226071     0.453752        42238.338567   \n",
      "min       0.000000        0.000000     0.000000            0.000000   \n",
      "25%       2.000000        2.000000     0.000000           20.000000   \n",
      "50%      32.000000       39.000000     0.564811          104.500000   \n",
      "75%      87.000000      110.000000     0.992633          862.000000   \n",
      "max     617.000000     1311.000000     1.000000       668060.000000   \n",
      "\n",
      "       avg_article_length        class  \n",
      "count         1282.000000  1282.000000  \n",
      "mean         12116.736463     0.775351  \n",
      "std          10195.564313     0.417514  \n",
      "min              0.000000     0.000000  \n",
      "25%           6834.631579     1.000000  \n",
      "50%          11362.726190     1.000000  \n",
      "75%          16319.142858     1.000000  \n",
      "max          93277.000000     1.000000  \n",
      "(1282, 16)\n"
     ]
    }
   ],
   "source": [
    "print(df.describe())\n",
    "print(df.shape)"
   ]
  },
  {
   "cell_type": "markdown",
   "metadata": {},
   "source": [
    "# Logistic Regression: Normalization"
   ]
  },
  {
   "cell_type": "code",
   "execution_count": 5,
   "metadata": {},
   "outputs": [],
   "source": [
    "df_norm = preprocessing.normalize(df.loc[:,'ratio_orgs':'avg_article_length'])\n",
    "df_target = df['class']\n",
    "x_train, x_test, y_train, y_test = train_test_split(df_norm, df_target, test_size=0.20, random_state=0)"
   ]
  },
  {
   "cell_type": "code",
   "execution_count": 23,
   "metadata": {},
   "outputs": [
    {
     "name": "stdout",
     "output_type": "stream",
     "text": [
      "Train Accuracy: 0.7990243902439025\n"
     ]
    }
   ],
   "source": [
    "log = lm.LogisticRegression(penalty = 'l2',C = 1.0)\n",
    "log.fit(x_train,y_train)\n",
    "\n",
    "y_predict_train = log.predict(x_train) \n",
    "print('Train Accuracy:',metrics.accuracy_score(y_train,y_predict_train))"
   ]
  },
  {
   "cell_type": "code",
   "execution_count": 37,
   "metadata": {},
   "outputs": [
    {
     "name": "stdout",
     "output_type": "stream",
     "text": [
      "Test Accuracy: 0.8132295719844358\n",
      "Confusion Matrix: \n",
      " [[ 29  24]\n",
      " [ 24 180]]\n",
      "Coefficients:\n",
      "   ratio_orgs  newsapi_totalResults  root_mean_distance  num_orgs  \\\n",
      "0       0.003                  1.99               1.164     0.193   \n",
      "\n",
      "   num_non_orgs  num_titlecase  num_articles  org_at_least_once  num_found  \\\n",
      "0         0.268          0.191         0.024               0.02      0.258   \n",
      "\n",
      "   num_industries  ratio_case  newsapi_rawResults  avg_article_length  \n",
      "0           0.397       0.002               -0.09               1.997  \n"
     ]
    }
   ],
   "source": [
    "y_predict_test = log.predict(x_test)\n",
    "print('Test Accuracy:',metrics.accuracy_score(y_test,y_predict_test))\n",
    "print('Confusion Matrix:','\\n',metrics.confusion_matrix(y_test,y_predict_test,labels = [0,1]))\n",
    "\n",
    "table = pd.DataFrame(np.round(log.coef_,3),columns = ['ratio_orgs', 'newsapi_totalResults',\n",
    "       'root_mean_distance', 'num_orgs', 'num_non_orgs', 'num_titlecase',\n",
    "       'num_articles', 'org_at_least_once', 'num_found', 'num_industries',\n",
    "       'ratio_case', 'newsapi_rawResults', 'avg_article_length'])\n",
    "\n",
    "print('Coefficients:')\n",
    "print(table)"
   ]
  },
  {
   "cell_type": "markdown",
   "metadata": {},
   "source": [
    "### Setting C"
   ]
  },
  {
   "cell_type": "code",
   "execution_count": 14,
   "metadata": {},
   "outputs": [],
   "source": [
    "x_train_sub, x_valid_sub, y_train_sub, y_valid_sub = train_test_split(x_train, y_train, test_size=0.20, random_state=0)\n"
   ]
  },
  {
   "cell_type": "code",
   "execution_count": 15,
   "metadata": {},
   "outputs": [
    {
     "name": "stdout",
     "output_type": "stream",
     "text": [
      "Train Accuracy: 0.7951219512195122\n",
      "Validation Accuracy: 0.8146341463414634\n",
      "Train Accuracy: 0.7951219512195122\n",
      "Validation Accuracy: 0.8195121951219512\n",
      "Train Accuracy: 0.7951219512195122\n",
      "Validation Accuracy: 0.8195121951219512\n",
      "Train Accuracy: 0.7951219512195122\n",
      "Validation Accuracy: 0.8195121951219512\n",
      "Train Accuracy: 0.7951219512195122\n",
      "Validation Accuracy: 0.8195121951219512\n",
      "Train Accuracy: 0.7951219512195122\n",
      "Validation Accuracy: 0.8195121951219512\n",
      "Train Accuracy: 0.7951219512195122\n",
      "Validation Accuracy: 0.8195121951219512\n",
      "Train Accuracy: 0.7951219512195122\n",
      "Validation Accuracy: 0.8195121951219512\n",
      "Train Accuracy: 0.7951219512195122\n",
      "Validation Accuracy: 0.8195121951219512\n",
      "Train Accuracy: 0.7951219512195122\n",
      "Validation Accuracy: 0.8195121951219512\n"
     ]
    },
    {
     "data": {
      "text/plain": [
       "Text(0,0.5,'Validation Accuracy')"
      ]
     },
     "execution_count": 15,
     "metadata": {},
     "output_type": "execute_result"
    },
    {
     "data": {
      "image/png": "[encoded data removed]",
      "text/plain": [
       "<matplotlib.figure.Figure at 0x1a0a3462e8>"
      ]
     },
     "metadata": {},
     "output_type": "display_data"
    }
   ],
   "source": [
    "#skf = StratifiedKFold(n_splits=10) #Use 10 fold cross-validation\n",
    "\n",
    "accuracy = []\n",
    "    \n",
    "for c in range(1,11): \n",
    "    log = lm.LogisticRegression(penalty = 'l2',C = c)\n",
    "    \n",
    "    log.fit(x_train_sub,y_train_sub)\n",
    "    y_predict_train = log.predict(x_train_sub) \n",
    "    print('Train Accuracy:',metrics.accuracy_score(y_train_sub,y_predict_train))\n",
    "\n",
    "    y_predict_valid = log.predict(x_valid_sub)\n",
    "    print('Validation Accuracy:',metrics.accuracy_score(y_valid_sub,y_predict_valid))\n",
    "    accuracy.append(metrics.accuracy_score(y_valid_sub,y_predict_valid))\n",
    "\n",
    "plt.plot(np.linspace(1,10,10),accuracy)\n",
    "plt.xlabel('Regularization Coefficient')\n",
    "plt.ylabel('Validation Accuracy')"
   ]
  },
  {
   "cell_type": "markdown",
   "metadata": {},
   "source": [
    "Conclusion: C = 2.0 optimal."
   ]
  },
  {
   "cell_type": "markdown",
   "metadata": {},
   "source": [
    "### Setting other parameters"
   ]
  },
  {
   "cell_type": "code",
   "execution_count": 17,
   "metadata": {},
   "outputs": [
    {
     "name": "stdout",
     "output_type": "stream",
     "text": [
      "Train Accuracy: 0.7951219512195122\n",
      "Validation Accuracy: 0.8195121951219512\n",
      "Train Accuracy: 0.7951219512195122\n",
      "Validation Accuracy: 0.8195121951219512\n",
      "Train Accuracy: 0.7951219512195122\n",
      "Validation Accuracy: 0.8195121951219512\n"
     ]
    }
   ],
   "source": [
    "#Solver = newton-cg\n",
    "log = lm.LogisticRegression(penalty = 'l2',C = 2, solver = 'newton-cg', multi_class = 'multinomial')\n",
    "\n",
    "log.fit(x_train_sub,y_train_sub)\n",
    "\n",
    "y_predict_train = log.predict(x_train_sub) \n",
    "print('Train Accuracy:',metrics.accuracy_score(y_train_sub,y_predict_train))\n",
    "\n",
    "y_predict_valid = log.predict(x_valid_sub)\n",
    "print('Validation Accuracy:',metrics.accuracy_score(y_valid_sub,y_predict_valid))\n",
    "\n",
    "#Solver = lbfgs\n",
    "log = lm.LogisticRegression(penalty = 'l2',C = 2, solver = 'lbfgs', multi_class = 'multinomial')\n",
    "\n",
    "log.fit(x_train_sub,y_train_sub)\n",
    "\n",
    "y_predict_train = log.predict(x_train_sub) \n",
    "print('Train Accuracy:',metrics.accuracy_score(y_train_sub,y_predict_train))\n",
    "\n",
    "y_predict_valid = log.predict(x_valid_sub)\n",
    "print('Validation Accuracy:',metrics.accuracy_score(y_valid_sub,y_predict_valid))\n",
    "\n",
    "#Solver = sag\n",
    "log = lm.LogisticRegression(penalty = 'l2',C = 2, solver = 'sag', multi_class = 'multinomial')\n",
    "\n",
    "log.fit(x_train_sub,y_train_sub)\n",
    "\n",
    "y_predict_train = log.predict(x_train_sub) \n",
    "print('Train Accuracy:',metrics.accuracy_score(y_train_sub,y_predict_train))\n",
    "\n",
    "y_predict_valid = log.predict(x_valid_sub)\n",
    "print('Validation Accuracy:',metrics.accuracy_score(y_valid_sub,y_predict_valid))\n"
   ]
  },
  {
   "cell_type": "code",
   "execution_count": 18,
   "metadata": {},
   "outputs": [
    {
     "name": "stdout",
     "output_type": "stream",
     "text": [
      "Train Accuracy: 0.7951219512195122\n",
      "Validation Accuracy: 0.8195121951219512\n",
      "Train Accuracy: 0.7951219512195122\n",
      "Validation Accuracy: 0.8195121951219512\n",
      "Train Accuracy: 0.7951219512195122\n",
      "Validation Accuracy: 0.8195121951219512\n"
     ]
    }
   ],
   "source": [
    "#Solver = newton-cg\n",
    "log = lm.LogisticRegression(penalty = 'l2',C = 2, solver = 'newton-cg', multi_class = 'ovr')\n",
    "\n",
    "log.fit(x_train_sub,y_train_sub)\n",
    "\n",
    "y_predict_train = log.predict(x_train_sub) \n",
    "print('Train Accuracy:',metrics.accuracy_score(y_train_sub,y_predict_train))\n",
    "\n",
    "y_predict_valid = log.predict(x_valid_sub)\n",
    "print('Validation Accuracy:',metrics.accuracy_score(y_valid_sub,y_predict_valid))\n",
    "\n",
    "#Solver = lbfgs\n",
    "log = lm.LogisticRegression(penalty = 'l2',C = 2, solver = 'lbfgs', multi_class = 'ovr')\n",
    "\n",
    "log.fit(x_train_sub,y_train_sub)\n",
    "\n",
    "y_predict_train = log.predict(x_train_sub) \n",
    "print('Train Accuracy:',metrics.accuracy_score(y_train_sub,y_predict_train))\n",
    "\n",
    "y_predict_valid = log.predict(x_valid_sub)\n",
    "print('Validation Accuracy:',metrics.accuracy_score(y_valid_sub,y_predict_valid))\n",
    "\n",
    "#Solver = sag\n",
    "log = lm.LogisticRegression(penalty = 'l2',C = 2, solver = 'sag', multi_class = 'ovr')\n",
    "\n",
    "log.fit(x_train_sub,y_train_sub)\n",
    "\n",
    "y_predict_train = log.predict(x_train_sub) \n",
    "print('Train Accuracy:',metrics.accuracy_score(y_train_sub,y_predict_train))\n",
    "\n",
    "y_predict_valid = log.predict(x_valid_sub)\n",
    "print('Validation Accuracy:',metrics.accuracy_score(y_valid_sub,y_predict_valid))\n"
   ]
  },
  {
   "cell_type": "code",
   "execution_count": 19,
   "metadata": {},
   "outputs": [
    {
     "name": "stdout",
     "output_type": "stream",
     "text": [
      "Train Accuracy: 0.7963414634146342\n",
      "Validation Accuracy: 0.8195121951219512\n",
      "Train Accuracy: 0.7939024390243903\n",
      "Validation Accuracy: 0.8195121951219512\n"
     ]
    }
   ],
   "source": [
    "#Solver = newton-cg\n",
    "log = lm.LogisticRegression(penalty = 'l1',C = 2, solver = 'liblinear', multi_class = 'ovr')\n",
    "\n",
    "log.fit(x_train_sub,y_train_sub)\n",
    "\n",
    "y_predict_train = log.predict(x_train_sub) \n",
    "print('Train Accuracy:',metrics.accuracy_score(y_train_sub,y_predict_train))\n",
    "\n",
    "y_predict_valid = log.predict(x_valid_sub)\n",
    "print('Validation Accuracy:',metrics.accuracy_score(y_valid_sub,y_predict_valid))\n",
    "\n",
    "#Solver = lbfgs\n",
    "log = lm.LogisticRegression(penalty = 'l1',C = 2, solver = 'saga', multi_class = 'ovr')\n",
    "\n",
    "log.fit(x_train_sub,y_train_sub)\n",
    "\n",
    "y_predict_train = log.predict(x_train_sub) \n",
    "print('Train Accuracy:',metrics.accuracy_score(y_train_sub,y_predict_train))\n",
    "\n",
    "y_predict_valid = log.predict(x_valid_sub)\n",
    "print('Validation Accuracy:',metrics.accuracy_score(y_valid_sub,y_predict_valid))"
   ]
  },
  {
   "cell_type": "markdown",
   "metadata": {},
   "source": [
    "### Try dropping unimportant features"
   ]
  },
  {
   "cell_type": "code",
   "execution_count": 22,
   "metadata": {},
   "outputs": [],
   "source": [
    "df_drop = np.delete(x_train,0,1)\n",
    "df_drop = np.delete(df_drop,10,1)\n",
    "x_train_drop, x_valid_drop, y_train_drop, y_valid_drop = train_test_split(x_train, y_train, test_size=0.20, random_state=0)"
   ]
  },
  {
   "cell_type": "code",
   "execution_count": 23,
   "metadata": {},
   "outputs": [
    {
     "name": "stdout",
     "output_type": "stream",
     "text": [
      "Train Accuracy: 0.7951219512195122\n",
      "Validation Accuracy: 0.8195121951219512\n"
     ]
    }
   ],
   "source": [
    "log = lm.LogisticRegression(penalty = 'l2',C = 2.0)\n",
    "\n",
    "log.fit(x_train_drop,y_train_drop)\n",
    "\n",
    "y_predict_train = log.predict(x_train_drop) \n",
    "print('Train Accuracy:',metrics.accuracy_score(y_train_drop,y_predict_train))\n",
    "\n",
    "y_predict_valid = log.predict(x_valid_sub)\n",
    "print('Validation Accuracy:',metrics.accuracy_score(y_valid_drop,y_predict_valid))"
   ]
  },
  {
   "cell_type": "markdown",
   "metadata": {},
   "source": [
    "### The model we're sticking with"
   ]
  },
  {
   "cell_type": "code",
   "execution_count": 25,
   "metadata": {},
   "outputs": [
    {
     "name": "stdout",
     "output_type": "stream",
     "text": [
      "Test Accuracy: 0.8171206225680934\n",
      "Confusion Matrix: \n",
      " [[ 30  23]\n",
      " [ 24 180]]\n",
      "Coefficients:\n",
      "   ratio_orgs  newsapi_totalResults  root_mean_distance  num_orgs  \\\n",
      "0       0.005                 2.689               1.391     0.364   \n",
      "\n",
      "   num_non_orgs  num_titlecase  num_articles  org_at_least_once  num_found  \\\n",
      "0         0.488          0.359         0.044              0.039      0.484   \n",
      "\n",
      "   num_industries  ratio_case  newsapi_rawResults  avg_article_length  \n",
      "0           0.743       0.003              -0.068                 2.0  \n"
     ]
    }
   ],
   "source": [
    "log = lm.LogisticRegression(penalty = 'l2',C = 2.0)\n",
    "log.fit(x_train,y_train)\n",
    "\n",
    "y_predict_test = log.predict(x_test)\n",
    "print('Test Accuracy:',metrics.accuracy_score(y_test,y_predict_test))\n",
    "print('Confusion Matrix:','\\n',metrics.confusion_matrix(y_test,y_predict_test,labels = [0,1]))\n",
    "\n",
    "table = pd.DataFrame(np.round(log.coef_,3),columns = ['ratio_orgs', 'newsapi_totalResults',\n",
    "       'root_mean_distance', 'num_orgs', 'num_non_orgs', 'num_titlecase',\n",
    "       'num_articles', 'org_at_least_once', 'num_found', 'num_industries',\n",
    "       'ratio_case', 'newsapi_rawResults', 'avg_article_length'])\n",
    "\n",
    "print('Coefficients:')\n",
    "print(table)"
   ]
  },
  {
   "cell_type": "markdown",
   "metadata": {},
   "source": [
    "# Logistic Regression: Non-normalized"
   ]
  },
  {
   "cell_type": "markdown",
   "metadata": {},
   "source": [
    "Just checking on something I read--these decreased model performance. Disregard and stick with normalization."
   ]
  },
  {
   "cell_type": "code",
   "execution_count": 38,
   "metadata": {},
   "outputs": [],
   "source": [
    "df_sub = df.loc[:,'ratio_orgs':'avg_article_length']\n",
    "x_train, x_test, y_train, y_test = train_test_split(df_sub, df_target, test_size=0.20, random_state=0)"
   ]
  },
  {
   "cell_type": "code",
   "execution_count": 39,
   "metadata": {},
   "outputs": [
    {
     "name": "stdout",
     "output_type": "stream",
     "text": [
      "Train Accuracy: 0.7736585365853659\n"
     ]
    }
   ],
   "source": [
    "log = lm.LogisticRegression(penalty = 'l2',C = 1.0)\n",
    "log.fit(x_train,y_train)\n",
    "\n",
    "y_predict_train = log.predict(x_train) \n",
    "print('Train Accuracy:',metrics.accuracy_score(y_train,y_predict_train))"
   ]
  },
  {
   "cell_type": "code",
   "execution_count": 40,
   "metadata": {},
   "outputs": [
    {
     "name": "stdout",
     "output_type": "stream",
     "text": [
      "Test Accuracy: 0.7859922178988327\n",
      "Confusion Matrix: \n",
      " [[  0  53]\n",
      " [  2 202]]\n",
      "Coefficients:\n",
      "   ratio_orgs  newsapi_totalResults  root_mean_distance  num_orgs  \\\n",
      "0        0.43                  -0.0                -0.0    -0.004   \n",
      "\n",
      "   num_non_orgs  num_titlecase  num_articles  org_at_least_once  num_found  \\\n",
      "0        -0.004         -0.005        -0.042              0.097      0.015   \n",
      "\n",
      "   num_industries  ratio_case  newsapi_rawResults  avg_article_length  \n",
      "0            0.01       1.186                 0.0                 0.0  \n"
     ]
    }
   ],
   "source": [
    "y_predict_test = log.predict(x_test)\n",
    "print('Test Accuracy:',metrics.accuracy_score(y_test,y_predict_test))\n",
    "print('Confusion Matrix:','\\n',metrics.confusion_matrix(y_test,y_predict_test,labels = [0,1]))\n",
    "\n",
    "table = pd.DataFrame(np.round(log.coef_,3),columns = ['ratio_orgs', 'newsapi_totalResults',\n",
    "       'root_mean_distance', 'num_orgs', 'num_non_orgs', 'num_titlecase',\n",
    "       'num_articles', 'org_at_least_once', 'num_found', 'num_industries',\n",
    "       'ratio_case', 'newsapi_rawResults', 'avg_article_length'])\n",
    "\n",
    "print('Coefficients:')\n",
    "print(table)"
   ]
  },
  {
   "cell_type": "code",
   "execution_count": null,
   "metadata": {},
   "outputs": [],
   "source": []
  }
 ],
 "metadata": {
  "kernelspec": {
   "display_name": "Python [conda env:data-x]",
   "language": "python",
   "name": "conda-env-data-x-py"
  },
  "language_info": {
   "codemirror_mode": {
    "name": "ipython",
    "version": 3
   },
   "file_extension": ".py",
   "mimetype": "text/x-python",
   "name": "python",
   "nbconvert_exporter": "python",
   "pygments_lexer": "ipython3",
   "version": "3.6.4"
  }
 },
 "nbformat": 4,
 "nbformat_minor": 2
}
