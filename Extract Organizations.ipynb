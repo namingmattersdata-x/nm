{
 "cells": [
  {
   "cell_type": "code",
   "execution_count": 72,
   "metadata": {},
   "outputs": [],
   "source": [
    "import xml.etree.ElementTree as ET\n",
    "import numpy as np\n",
    "import pandas as pd\n",
    "import os"
   ]
  },
  {
   "cell_type": "code",
   "execution_count": 113,
   "metadata": {},
   "outputs": [],
   "source": [
    "def extract_data(fname,directory):\n",
    "    tree = ET.parse(fname)\n",
    "    root = tree.getroot()\n",
    "    \n",
    "    file = []\n",
    "    org = []\n",
    "    \n",
    "    for organization in root.iter('org'):\n",
    "        string = str(os.getcwd())[49:] + str(fname)\n",
    "        file.append(string)\n",
    "        org.append(organization.text)\n",
    "\n",
    "    if org:\n",
    "        df = pd.DataFrame(\n",
    "        {'File': file,\n",
    "         'Organization': org\n",
    "        })    \n",
    "    \n",
    "        return(df)"
   ]
  },
  {
   "cell_type": "code",
   "execution_count": 110,
   "metadata": {},
   "outputs": [
    {
     "name": "stdout",
     "output_type": "stream",
     "text": [
      "/2006/01/02/Users/hannahburak/Downloads/NY Times Corpus/data/1988/03/06/0124832.xml\n"
     ]
    },
    {
     "data": {
      "text/html": [
       "<div>\n",
       "<style scoped>\n",
       "    .dataframe tbody tr th:only-of-type {\n",
       "        vertical-align: middle;\n",
       "    }\n",
       "\n",
       "    .dataframe tbody tr th {\n",
       "        vertical-align: top;\n",
       "    }\n",
       "\n",
       "    .dataframe thead th {\n",
       "        text-align: right;\n",
       "    }\n",
       "</style>\n",
       "<table border=\"1\" class=\"dataframe\">\n",
       "  <thead>\n",
       "    <tr style=\"text-align: right;\">\n",
       "      <th></th>\n",
       "      <th>File</th>\n",
       "      <th>Organization</th>\n",
       "    </tr>\n",
       "  </thead>\n",
       "  <tbody>\n",
       "    <tr>\n",
       "      <th>0</th>\n",
       "      <td>/2006/01/02/Users/hannahburak/Downloads/NY Tim...</td>\n",
       "      <td>ROCKLAND COMMUNITY COLLEGE (NY)</td>\n",
       "    </tr>\n",
       "  </tbody>\n",
       "</table>\n",
       "</div>"
      ],
      "text/plain": [
       "                                                File  \\\n",
       "0  /2006/01/02/Users/hannahburak/Downloads/NY Tim...   \n",
       "\n",
       "                      Organization  \n",
       "0  ROCKLAND COMMUNITY COLLEGE (NY)  "
      ]
     },
     "execution_count": 110,
     "metadata": {},
     "output_type": "execute_result"
    }
   ],
   "source": [
    "extract_data('/Users/hannahburak/Downloads/NY Times Corpus/data/1988/03/06/0124832.xml','/Users/hannahburak/Downloads/NY Times Corpus/data/1988/03/06/')"
   ]
  },
  {
   "cell_type": "code",
   "execution_count": 103,
   "metadata": {},
   "outputs": [],
   "source": [
    "extract_data('/Users/hannahburak/Downloads/NY Times Corpus/data/1988/03/06/0124842.xml','/Users/hannahburak/Downloads/NY Times Corpus/data/1988/03/06/')"
   ]
  },
  {
   "cell_type": "code",
   "execution_count": 116,
   "metadata": {},
   "outputs": [],
   "source": [
    "year_start = 2005 \n",
    "year_end = 2006 #inclusive\n",
    "\n",
    "months = ['01','02','03','04','05','06','07','08','09','10','11','12']\n",
    "\n",
    "out = pd.DataFrame(columns = ['File','Organization'])\n",
    "\n",
    "for year in range(year_start,year_end +1):\n",
    "    for month in months:\n",
    "        directory = os.chdir('/Users/hannahburak/Downloads/NY Times Corpus/data/'+ str(year) + '/' + month)\n",
    "        num = len(list(os.listdir(directory)))\n",
    "        \n",
    "        for i in range(1,num+1):\n",
    "            if i < 10:\n",
    "                i = str(0) + str(i)\n",
    "            directory = os.chdir('/Users/hannahburak/Downloads/NY Times Corpus/data/'+ str(year) + '/' + month  + '/' + str(i))\n",
    "            files = os.listdir(directory)\n",
    "            \n",
    "            for fname in files:\n",
    "                line = pd.DataFrame(extract_data(fname,directory))\n",
    "                \n",
    "                out = out.append(line)"
   ]
  },
  {
   "cell_type": "code",
   "execution_count": 117,
   "metadata": {},
   "outputs": [
    {
     "name": "stdout",
     "output_type": "stream",
     "text": [
      "                     File                Organization\n",
      "0  /2005/01/011638771.xml  Insurance Department (NYS)\n",
      "0  /2005/01/011638759.xml     New York Public Library\n",
      "0  /2005/01/011638772.xml     Northwestern University\n",
      "0  /2005/01/011638773.xml               New York Jets\n",
      "1  /2005/01/011638773.xml        New England Patriots\n",
      "(106475, 2)\n"
     ]
    }
   ],
   "source": [
    "print(out.head())\n",
    "print(out.shape)"
   ]
  },
  {
   "cell_type": "code",
   "execution_count": 118,
   "metadata": {},
   "outputs": [],
   "source": [
    "out.to_csv('/Users/hannahburak/Documents/Berkeley/NYT_orgs.csv')"
   ]
  },
  {
   "cell_type": "code",
   "execution_count": null,
   "metadata": {},
   "outputs": [],
   "source": []
  }
 ],
 "metadata": {
  "kernelspec": {
   "display_name": "Python [conda env:data-x]",
   "language": "python",
   "name": "conda-env-data-x-py"
  },
  "language_info": {
   "codemirror_mode": {
    "name": "ipython",
    "version": 3
   },
   "file_extension": ".py",
   "mimetype": "text/x-python",
   "name": "python",
   "nbconvert_exporter": "python",
   "pygments_lexer": "ipython3",
   "version": "3.6.4"
  }
 },
 "nbformat": 4,
 "nbformat_minor": 2
}
